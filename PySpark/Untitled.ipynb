{
 "cells": [
  {
   "cell_type": "code",
   "execution_count": 2,
   "id": "3e0e6187-fcea-41ea-b05d-482709d2f561",
   "metadata": {
    "scrolled": true
   },
   "outputs": [
    {
     "name": "stdout",
     "output_type": "stream",
     "text": [
      
      "Successfully built pyspark\n",
      "Installing collected packages: py4j, pyspark\n",
      "Successfully installed py4j-0.10.9.7 pyspark-3.5.2\n"
     ]
    },
    {
     "name": "stderr",
     "output_type": "stream",
     "text": [
      "\n",
      "[notice] A new release of pip is available: 24.1.2 -> 24.2\n",
      "[notice] To update, run: python.exe -m pip install --upgrade pip\n"
     ]
    }
   ],
   "source": [
    "!pip install pyspark"
   ]
  },
  {
   "cell_type": "code",
   "execution_count": 4,
   "id": "ea13d254-8998-4a23-b971-1337faf72366",
   "metadata": {
    "scrolled": true
   },
   "outputs": [
    {
     "name": "stdout",
     "output_type": "stream",
     "text": [
     
  
      "Installing collected packages: pip\n",
      "  Attempting uninstall: pip\n",
      "    Found existing installation: pip 24.1.2\n",
      "    Uninstalling pip-24.1.2:\n",
      "      Successfully uninstalled pip-24.1.2\n",
      "Successfully installed pip-24.2\n",
      "Note: you may need to restart the kernel to use updated packages.\n"
     ]
    }
   ],
   "source": [
    " pip install --upgrade pip"
   ]
  },
  {
   "cell_type": "code",
   "execution_count": 2,
   "id": "be7f4d65-1978-4361-8b58-f73f86c4fd39",
   "metadata": {},
   "outputs": [],
   "source": [
    "import pyspark"
   ]
  },
  {
   "cell_type": "code",
   "execution_count": 3,
   "id": "d5cebef0-46d0-4ff3-ab53-992caee3cc22",
   "metadata": {},
   "outputs": [
    {
     "data": {
      "text/html": [
       "<div>\n",
       "<style scoped>\n",
       "    .dataframe tbody tr th:only-of-type {\n",
       "        vertical-align: middle;\n",
       "    }\n",
       "\n",
       "    .dataframe tbody tr th {\n",
       "        vertical-align: top;\n",
       "    }\n",
       "\n",
       "    .dataframe thead th {\n",
       "        text-align: right;\n",
       "    }\n",
       "</style>\n",
       "<table border=\"1\" class=\"dataframe\">\n",
       "  <thead>\n",
       "    <tr style=\"text-align: right;\">\n",
       "      <th></th>\n",
       "      <th>Name</th>\n",
       "      <th>age</th>\n",
       "    </tr>\n",
       "  </thead>\n",
       "  <tbody>\n",
       "    <tr>\n",
       "      <th>0</th>\n",
       "      <td>Rohan</td>\n",
       "      <td>23</td>\n",
       "    </tr>\n",
       "    <tr>\n",
       "      <th>1</th>\n",
       "      <td>Sudanshu</td>\n",
       "      <td>30</td>\n",
       "    </tr>\n",
       "    <tr>\n",
       "      <th>2</th>\n",
       "      <td>sunny</td>\n",
       "      <td>29</td>\n",
       "    </tr>\n",
       "  </tbody>\n",
       "</table>\n",
       "</div>"
      ],
      "text/plain": [
       "       Name  age\n",
       "0     Rohan   23\n",
       "1  Sudanshu   30\n",
       "2     sunny   29"
      ]
     },
     "execution_count": 3,
     "metadata": {},
     "output_type": "execute_result"
    }
   ],
   "source": [
    "import pandas as pd \n",
    "pd.read_csv('Book1.csv')"
   ]
  },
  {
   "cell_type": "code",
   "execution_count": 1,
   "id": "df5072ea-b592-49dd-ba25-b09cdf92281c",
   "metadata": {},
   "outputs": [],
   "source": [
    " from pyspark.sql import SparkSession"
   ]
  },
  {
   "cell_type": "code",
   "execution_count": 3,
   "id": "8e0892f5-07fc-4e6a-b9f9-2342217f9eec",
   "metadata": {},
   "outputs": [],
   "source": [
    "spark=SparkSession.builder.appName('Practise').getOrCreate()"
   ]
  },
  {
   "cell_type": "code",
   "execution_count": 4,
   "id": "166f165c-9be5-4283-88e9-fb072f84d898",
   "metadata": {},
   "outputs": [
    {
     "data": {
      "text/html": [
       "\n",
       "            <div>\n",
       "                <p><b>SparkSession - in-memory</b></p>\n",
       "                \n",
       "        <div>\n",
       "            <p><b>SparkContext</b></p>\n",
       "\n",
       "            <p><a href=\"http://DESKTOP-Q105POI:4040\">Spark UI</a></p>\n",
       "\n",
       "            <dl>\n",
       "              <dt>Version</dt>\n",
       "                <dd><code>v3.5.2</code></dd>\n",
       "              <dt>Master</dt>\n",
       "                <dd><code>local[*]</code></dd>\n",
       "              <dt>AppName</dt>\n",
       "                <dd><code>Practise</code></dd>\n",
       "            </dl>\n",
       "        </div>\n",
       "        \n",
       "            </div>\n",
       "        "
      ],
      "text/plain": [
       "<pyspark.sql.session.SparkSession at 0x256d66e5dc0>"
      ]
     },
     "execution_count": 4,
     "metadata": {},
     "output_type": "execute_result"
    }
   ],
   "source": [
    "spark"
   ]
  },
  {
   "cell_type": "code",
   "execution_count": 29,
   "id": "9e283f38-427d-4852-bf19-15bc5927a3af",
   "metadata": {},
   "outputs": [],
   "source": [
    "##read the dataset to \n",
    "df_pyspark=spark.read.csv(\"Book1.csv\",header=True,inferSchema=True)"
   ]
  },
  {
   "cell_type": "code",
   "execution_count": 28,
   "id": "ee425d3b-3cdd-4b8a-b27e-4f1080082f0f",
   "metadata": {},
   "outputs": [
    {
     "name": "stdout",
     "output_type": "stream",
     "text": [
      "+--------+---+----------+\n",
      "|     _c0|_c1|       _c2|\n",
      "+--------+---+----------+\n",
      "|    Name|age|experience|\n",
      "|   Rohan| 23|        10|\n",
      "|Sudanshu| 30|         8|\n",
      "|   sunny| 29|         4|\n",
      "+--------+---+----------+\n",
      "\n"
     ]
    }
   ],
   "source": [
    "df_pyspark.show()"
   ]
  },
  {
   "cell_type": "code",
   "execution_count": 66,
   "id": "43f88fe0-bb00-4904-a80a-e5c1b7a35000",
   "metadata": {},
   "outputs": [],
   "source": [
    "#read the data set with first row of file being header\n",
    "df_pyspark=spark.read.option('header','true').csv(\"Book1.csv\",inferSchema=True)"
   ]
  },
  {
   "cell_type": "code",
   "execution_count": 40,
   "id": "7debe25a-9f36-452f-b403-237ae9231fe6",
   "metadata": {},
   "outputs": [
    {
     "data": {
      "text/plain": [
       "DataFrame[Name: string, age: int, experience: int, Salary: int]"
      ]
     },
     "execution_count": 40,
     "metadata": {},
     "output_type": "execute_result"
    }
   ],
   "source": [
    "df_pyspark"
   ]
  },
  {
   "cell_type": "code",
   "execution_count": 7,
   "id": "819c2090-4c69-4b60-893a-69ce6b1ea0f0",
   "metadata": {},
   "outputs": [
    {
     "data": {
      "text/plain": [
       "pyspark.sql.dataframe.DataFrame"
      ]
     },
     "execution_count": 7,
     "metadata": {},
     "output_type": "execute_result"
    }
   ],
   "source": [
    "type(df_pyspark)"
   ]
  },
  {
   "cell_type": "code",
   "execution_count": 41,
   "id": "1a653bd6-9591-481d-9c3e-009507cfc911",
   "metadata": {},
   "outputs": [
    {
     "name": "stdout",
     "output_type": "stream",
     "text": [
      "root\n",
      " |-- Name: string (nullable = true)\n",
      " |-- age: integer (nullable = true)\n",
      " |-- experience: integer (nullable = true)\n",
      " |-- Salary: integer (nullable = true)\n",
      "\n"
     ]
    }
   ],
   "source": [
    "##to print the schema\n",
    "df_pyspark.printSchema()"
   ]
  },
  {
   "cell_type": "code",
   "execution_count": 42,
   "id": "47bb0305-9283-4042-bcfb-5c475c3fc1d4",
   "metadata": {},
   "outputs": [
    {
     "data": {
      "text/plain": [
       "['Name', 'age', 'experience', 'Salary']"
      ]
     },
     "execution_count": 42,
     "metadata": {},
     "output_type": "execute_result"
    }
   ],
   "source": [
    "##to get all column names\n",
    "df_pyspark.columns"
   ]
  },
  {
   "cell_type": "code",
   "execution_count": 43,
   "id": "776bdae2-fc5d-41e1-a050-ba76327ceda3",
   "metadata": {},
   "outputs": [
    {
     "data": {
      "text/plain": [
       "[Row(Name='Rohan', age=23, experience=10, Salary=30000),\n",
       " Row(Name='Sudanshu', age=30, experience=8, Salary=25000),\n",
       " Row(Name='Sunny', age=29, experience=4, Salary=20000)]"
      ]
     },
     "execution_count": 43,
     "metadata": {},
     "output_type": "execute_result"
    }
   ],
   "source": [
    "##to get head\n",
    "df_pyspark.head(3)"
   ]
  },
  {
   "cell_type": "code",
   "execution_count": 44,
   "id": "51e98653-274f-4b26-bb76-3af013d90adf",
   "metadata": {},
   "outputs": [
    {
     "name": "stdout",
     "output_type": "stream",
     "text": [
      "+--------+\n",
      "|    Name|\n",
      "+--------+\n",
      "|   Rohan|\n",
      "|Sudanshu|\n",
      "|   Sunny|\n",
      "|    Paul|\n",
      "|  Harsha|\n",
      "| Shubham|\n",
      "|  Mahesh|\n",
      "|    NULL|\n",
      "|    NULL|\n",
      "+--------+\n",
      "\n"
     ]
    }
   ],
   "source": [
    "##to get single column\n",
    "df_pyspark.select('Name').show()"
   ]
  },
  {
   "cell_type": "code",
   "execution_count": 45,
   "id": "9a239043-2b3e-411e-8d0a-ba6bb9126d56",
   "metadata": {},
   "outputs": [
    {
     "name": "stdout",
     "output_type": "stream",
     "text": [
      "+--------+----------+\n",
      "|    Name|Experience|\n",
      "+--------+----------+\n",
      "|   Rohan|        10|\n",
      "|Sudanshu|         8|\n",
      "|   Sunny|         4|\n",
      "|    Paul|         3|\n",
      "|  Harsha|         1|\n",
      "| Shubham|         2|\n",
      "|  Mahesh|      NULL|\n",
      "|    NULL|        10|\n",
      "|    NULL|      NULL|\n",
      "+--------+----------+\n",
      "\n"
     ]
    }
   ],
   "source": [
    "##to ge multiple columns\n",
    "df_pyspark.select(['Name','Experience']).show()"
   ]
  },
  {
   "cell_type": "code",
   "execution_count": 46,
   "id": "580d7242-34e3-407c-9db8-854f247b5218",
   "metadata": {},
   "outputs": [
    {
     "data": {
      "text/plain": [
       "[('Name', 'string'), ('age', 'int'), ('experience', 'int'), ('Salary', 'int')]"
      ]
     },
     "execution_count": 46,
     "metadata": {},
     "output_type": "execute_result"
    }
   ],
   "source": [
    "#to check datatypes\n",
    "df_pyspark.dtypes"
   ]
  },
  {
   "cell_type": "code",
   "execution_count": 47,
   "id": "34917d6b-68ac-4868-8c39-0afc6ea51255",
   "metadata": {},
   "outputs": [
    {
     "name": "stdout",
     "output_type": "stream",
     "text": [
      "+-------+------+------------------+------------------+-----------------+\n",
      "|summary|  Name|               age|        experience|           Salary|\n",
      "+-------+------+------------------+------------------+-----------------+\n",
      "|  count|     7|                 8|                 7|                8|\n",
      "|   mean|  NULL|              27.5| 5.428571428571429|          25750.0|\n",
      "| stddev|  NULL|5.5805785670356025|3.8234863173611093|9361.776388210581|\n",
      "|    min|Harsha|                21|                 1|            15000|\n",
      "|    max| Sunny|                36|                10|            40000|\n",
      "+-------+------+------------------+------------------+-----------------+\n",
      "\n"
     ]
    }
   ],
   "source": [
    "#describe \n",
    "df_pyspark.describe().show()"
   ]
  },
  {
   "cell_type": "code",
   "execution_count": 30,
   "id": "44c15028-cb83-48e6-b117-052c1ed0dae9",
   "metadata": {},
   "outputs": [],
   "source": [
    "##adding columns in data frame\n",
    "df_pyspark=df_pyspark.withColumn('Experience After 2 year',df_pyspark['Experience']+2)"
   ]
  },
  {
   "cell_type": "code",
   "execution_count": 31,
   "id": "e90088c4-9d28-47dd-b596-816af8fcd826",
   "metadata": {},
   "outputs": [
    {
     "name": "stdout",
     "output_type": "stream",
     "text": [
      "+--------+---+----------+-----------------------+\n",
      "|    Name|age|experience|Experience After 2 year|\n",
      "+--------+---+----------+-----------------------+\n",
      "|   Rohan| 23|        10|                     12|\n",
      "|Sudanshu| 30|         8|                     10|\n",
      "|   sunny| 29|         4|                      6|\n",
      "+--------+---+----------+-----------------------+\n",
      "\n"
     ]
    }
   ],
   "source": [
    "df_pyspark.show()"
   ]
  },
  {
   "cell_type": "code",
   "execution_count": 32,
   "id": "983f81fe-4834-4d22-bf16-61ce2076b1ce",
   "metadata": {},
   "outputs": [],
   "source": [
    "##drop the columns\n",
    "df_pyspark=df_pyspark.drop(\"Experience after 2 year\")"
   ]
  },
  {
   "cell_type": "code",
   "execution_count": 34,
   "id": "d8d24be0-2e23-4516-8439-b494460f0184",
   "metadata": {},
   "outputs": [
    {
     "name": "stdout",
     "output_type": "stream",
     "text": [
      "+--------+---+----------+\n",
      "|    Name|age|experience|\n",
      "+--------+---+----------+\n",
      "|   Rohan| 23|        10|\n",
      "|Sudanshu| 30|         8|\n",
      "|   sunny| 29|         4|\n",
      "+--------+---+----------+\n",
      "\n"
     ]
    }
   ],
   "source": [
    "df_pyspark.show()"
   ]
  },
  {
   "cell_type": "code",
   "execution_count": 48,
   "id": "e06cd110-bfd6-4fac-b90c-3bb18efe7d2e",
   "metadata": {},
   "outputs": [],
   "source": [
    "##rename the columns\n",
    "df_pyspark=df_pyspark.withColumnRenamed('Name','New Name')"
   ]
  },
  {
   "cell_type": "code",
   "execution_count": 52,
   "id": "3c67dda0-0d01-476e-aa41-a943bf441ccb",
   "metadata": {},
   "outputs": [
    {
     "name": "stdout",
     "output_type": "stream",
     "text": [
      "+--------+----+----------+------+\n",
      "|    Name| age|experience|Salary|\n",
      "+--------+----+----------+------+\n",
      "|   Rohan|  23|        10| 30000|\n",
      "|Sudanshu|  30|         8| 25000|\n",
      "|   Sunny|  29|         4| 20000|\n",
      "|    Paul|  24|         3| 20000|\n",
      "|  Harsha|  21|         1| 15000|\n",
      "| Shubham|  23|         2| 18000|\n",
      "|  Mahesh|NULL|      NULL| 40000|\n",
      "|    NULL|  34|        10| 38000|\n",
      "|    NULL|  36|      NULL|  NULL|\n",
      "+--------+----+----------+------+\n",
      "\n"
     ]
    }
   ],
   "source": [
    "df_pyspark.show()"
   ]
  },
  {
   "cell_type": "code",
   "execution_count": 51,
   "id": "f2b8bd88-11c4-491a-8175-43d127d096c2",
   "metadata": {},
   "outputs": [],
   "source": [
    "df_pyspark=df_pyspark.withColumnRenamed('New Name','Name')"
   ]
  },
  {
   "cell_type": "code",
   "execution_count": 69,
   "id": "6ccfa6db-de73-475f-8bfd-631ebc86a1a1",
   "metadata": {},
   "outputs": [
    {
     "name": "stdout",
     "output_type": "stream",
     "text": [
      "+--------+---+----------+------+\n",
      "|    Name|age|experience|Salary|\n",
      "+--------+---+----------+------+\n",
      "|   Rohan| 23|        10| 30000|\n",
      "|Sudanshu| 30|         8| 25000|\n",
      "|   Sunny| 29|         4| 20000|\n",
      "|    Paul| 24|         3| 20000|\n",
      "|  Harsha| 21|         1| 15000|\n",
      "| Shubham| 23|         2| 18000|\n",
      "+--------+---+----------+------+\n",
      "\n"
     ]
    }
   ],
   "source": [
    "##handling missing values\n",
    "df_pyspark.na.drop().show()"
   ]
  },
  {
   "cell_type": "code",
   "execution_count": 70,
   "id": "c0ad6d15-3d37-4f52-bffa-389cd37b360c",
   "metadata": {},
   "outputs": [
    {
     "name": "stdout",
     "output_type": "stream",
     "text": [
      "+--------+----+----------+------+\n",
      "|    Name| age|experience|Salary|\n",
      "+--------+----+----------+------+\n",
      "|   Rohan|  23|        10| 30000|\n",
      "|Sudanshu|  30|         8| 25000|\n",
      "|   Sunny|  29|         4| 20000|\n",
      "|    Paul|  24|         3| 20000|\n",
      "|  Harsha|  21|         1| 15000|\n",
      "| Shubham|  23|         2| 18000|\n",
      "|  Mahesh|NULL|      NULL| 40000|\n",
      "|    NULL|  34|        10| 38000|\n",
      "|    NULL|  36|      NULL|  NULL|\n",
      "+--------+----+----------+------+\n",
      "\n"
     ]
    }
   ],
   "source": [
    "###ANY==HOW\n",
    "df_pyspark.na.drop(how='all').show()"
   ]
  },
  {
   "cell_type": "code",
   "execution_count": 71,
   "id": "26d6e3f7-7bf9-4c0a-8113-737ad3d27a63",
   "metadata": {},
   "outputs": [
    {
     "name": "stdout",
     "output_type": "stream",
     "text": [
      "+--------+---+----------+------+\n",
      "|    Name|age|experience|Salary|\n",
      "+--------+---+----------+------+\n",
      "|   Rohan| 23|        10| 30000|\n",
      "|Sudanshu| 30|         8| 25000|\n",
      "|   Sunny| 29|         4| 20000|\n",
      "|    Paul| 24|         3| 20000|\n",
      "|  Harsha| 21|         1| 15000|\n",
      "| Shubham| 23|         2| 18000|\n",
      "|    NULL| 34|        10| 38000|\n",
      "+--------+---+----------+------+\n",
      "\n"
     ]
    }
   ],
   "source": [
    "##threshold\n",
    "df_pyspark.na.drop(how='any',thresh=3).show()"
   ]
  },
  {
   "cell_type": "code",
   "execution_count": 72,
   "id": "d900ba78-2d4a-436e-afe6-30e0b11f3167",
   "metadata": {},
   "outputs": [
    {
     "name": "stdout",
     "output_type": "stream",
     "text": [
      "+--------+---+----------+------+\n",
      "|    Name|age|experience|Salary|\n",
      "+--------+---+----------+------+\n",
      "|   Rohan| 23|        10| 30000|\n",
      "|Sudanshu| 30|         8| 25000|\n",
      "|   Sunny| 29|         4| 20000|\n",
      "|    Paul| 24|         3| 20000|\n",
      "|  Harsha| 21|         1| 15000|\n",
      "| Shubham| 23|         2| 18000|\n",
      "|    NULL| 34|        10| 38000|\n",
      "+--------+---+----------+------+\n",
      "\n"
     ]
    }
   ],
   "source": [
    "##Subset\n",
    "df_pyspark.na.drop(how=\"any\",subset=['experience']).show()"
   ]
  },
  {
   "cell_type": "code",
   "execution_count": 68,
   "id": "7fdf549f-fd78-4785-9eff-a42384f5adab",
   "metadata": {},
   "outputs": [],
   "source": [
    "df_pyspark=spark.read.csv(\"Book1.csv\",header=True,inferSchema=True)"
   ]
  },
  {
   "cell_type": "code",
   "execution_count": 76,
   "id": "84b53472-c9cf-493a-ad69-807263cce315",
   "metadata": {},
   "outputs": [
    {
     "name": "stdout",
     "output_type": "stream",
     "text": [
      "+-----------+----+----------+------+\n",
      "|       Name| age|experience|Salary|\n",
      "+-----------+----+----------+------+\n",
      "|      Rohan|  23|        10| 30000|\n",
      "|   Sudanshu|  30|         8| 25000|\n",
      "|      Sunny|  29|         4| 20000|\n",
      "|       Paul|  24|         3| 20000|\n",
      "|     Harsha|  21|         1| 15000|\n",
      "|    Shubham|  23|         2| 18000|\n",
      "|     Mahesh|NULL|      NULL| 40000|\n",
      "|miss values|  34|        10| 38000|\n",
      "|miss values|  36|      NULL|  NULL|\n",
      "+-----------+----+----------+------+\n",
      "\n"
     ]
    }
   ],
   "source": [
    "##fill the missing value with something else than null\n",
    "df_pyspark.na.fill(\"miss values\").show()"
   ]
  },
  {
   "cell_type": "code",
   "execution_count": 77,
   "id": "2bc3ebca-00bc-46ac-87ec-a25ceec752c6",
   "metadata": {},
   "outputs": [
    {
     "name": "stdout",
     "output_type": "stream",
     "text": [
      "+--------+----+----------+------+\n",
      "|    Name| age|experience|Salary|\n",
      "+--------+----+----------+------+\n",
      "|   Rohan|  23|        10| 30000|\n",
      "|Sudanshu|  30|         8| 25000|\n",
      "|   Sunny|  29|         4| 20000|\n",
      "|    Paul|  24|         3| 20000|\n",
      "|  Harsha|  21|         1| 15000|\n",
      "| Shubham|  23|         2| 18000|\n",
      "|  Mahesh|NULL|      NULL| 40000|\n",
      "|    NULL|  34|        10| 38000|\n",
      "|    NULL|  36|      NULL|  NULL|\n",
      "+--------+----+----------+------+\n",
      "\n"
     ]
    }
   ],
   "source": [
    "df_pyspark.na.fill(\"miss values\",\"experience\").show()"
   ]
  },
  {
   "cell_type": "code",
   "execution_count": 80,
   "id": "a279765d-9ab8-401d-9732-3b83221e79f6",
   "metadata": {},
   "outputs": [
    {
     "name": "stdout",
     "output_type": "stream",
     "text": [
      "+--------+----+-----------+------+\n",
      "|    Name| age| experience|Salary|\n",
      "+--------+----+-----------+------+\n",
      "|   Rohan|  23|         10| 30000|\n",
      "|Sudanshu|  30|          8| 25000|\n",
      "|   Sunny|  29|          4| 20000|\n",
      "|    Paul|  24|          3| 20000|\n",
      "|  Harsha|  21|          1| 15000|\n",
      "| Shubham|  23|          2| 18000|\n",
      "|  Mahesh|NULL|miss values| 40000|\n",
      "|    NULL|  34|         10| 38000|\n",
      "|    NULL|  36|miss values|  NULL|\n",
      "+--------+----+-----------+------+\n",
      "\n"
     ]
    }
   ],
   "source": [
    "#to change the dtype \n",
    "df_pyspark = df_pyspark.withColumn(\"experience\", df_pyspark[\"experience\"].cast(\"string\"))\n",
    "df_pyspark.na.fill(\"miss values\", [\"experience\"]).show()"
   ]
  },
  {
   "cell_type": "code",
   "execution_count": 81,
   "id": "ac02154e-a96f-479d-abc6-36475f07df44",
   "metadata": {},
   "outputs": [],
   "source": [
    "df_pyspark = df_pyspark.withColumn(\"experience\", df_pyspark[\"experience\"].cast(\"int\"))"
   ]
  },
  {
   "cell_type": "code",
   "execution_count": 88,
   "id": "60d3ae45-eb54-4cb3-bf36-02d81ff14cdb",
   "metadata": {},
   "outputs": [
    {
     "data": {
      "text/plain": [
       "DataFrame[Name: string, age: int, experience: int, Salary: int]"
      ]
     },
     "execution_count": 88,
     "metadata": {},
     "output_type": "execute_result"
    }
   ],
   "source": [
    "df_pyspark"
   ]
  },
  {
   "cell_type": "code",
   "execution_count": 83,
   "id": "117ece16-22fe-4b8c-838d-d60b4825da46",
   "metadata": {},
   "outputs": [],
   "source": [
    "import numpy as np"
   ]
  },
  {
   "cell_type": "code",
   "execution_count": 92,
   "id": "dd674531-b164-4093-bf77-4881ca8926f4",
   "metadata": {},
   "outputs": [
    {
     "name": "stdout",
     "output_type": "stream",
     "text": [
      "+--------+----+----------+------+-----------+-----------+-----------+\n",
      "|    Name| age|experience|Salary|age_imputed|exp_imputed|sal_imputed|\n",
      "+--------+----+----------+------+-----------+-----------+-----------+\n",
      "|   Rohan|  23|        10| 30000|         23|         10|      30000|\n",
      "|Sudanshu|  30|         8| 25000|         30|          8|      25000|\n",
      "|   Sunny|  29|         4| 20000|         29|          4|      20000|\n",
      "|    Paul|  24|         3| 20000|         24|          3|      20000|\n",
      "|  Harsha|  21|         1| 15000|         21|          1|      15000|\n",
      "| Shubham|  23|         2| 18000|         23|          2|      18000|\n",
      "|  Mahesh|NULL|      NULL| 40000|         27|          5|      40000|\n",
      "|    NULL|  34|        10| 38000|         34|         10|      38000|\n",
      "|    NULL|  36|      NULL|  NULL|         36|          5|      25750|\n",
      "+--------+----+----------+------+-----------+-----------+-----------+\n",
      "\n"
     ]
    }
   ],
   "source": [
    "from pyspark.ml.feature import Imputer\n",
    "\n",
    "# Initialize the Imputer\n",
    "imputer = Imputer(inputCols=[\"age\",\"experience\",\"Salary\"], outputCols=[\"age_imputed\",\"exp_imputed\",\"sal_imputed\"]).setStrategy(\"mean\")\n",
    "\n",
    "# Fit and transform the dataframe\n",
    "imputer.fit(df_pyspark).transform(df_pyspark).show()\n"
   ]
  },
  {
   "cell_type": "code",
   "execution_count": 133,
   "id": "2216df9e-5f89-477f-96bd-f5a254333d8f",
   "metadata": {},
   "outputs": [],
   "source": [
    "non_null=df_pyspark.na.drop()"
   ]
  },
  {
   "cell_type": "code",
   "execution_count": 134,
   "id": "f52e1d92-a652-402b-82af-e1524fa65bad",
   "metadata": {},
   "outputs": [
    {
     "name": "stdout",
     "output_type": "stream",
     "text": [
      "+--------+---+----------+------+\n",
      "|    Name|age|experience|Salary|\n",
      "+--------+---+----------+------+\n",
      "|   Rohan| 23|        10| 30000|\n",
      "|Sudanshu| 30|         8| 25000|\n",
      "|   Sunny| 29|         4| 20000|\n",
      "|    Paul| 24|         3| 20000|\n",
      "|  Harsha| 21|         1| 15000|\n",
      "| Shubham| 23|         2| 18000|\n",
      "+--------+---+----------+------+\n",
      "\n"
     ]
    }
   ],
   "source": [
    "non_null.show()"
   ]
  },
  {
   "cell_type": "markdown",
   "id": "4491da17-70c1-462d-bd77-062424dc086d",
   "metadata": {},
   "source": [
    "### filter operations\n"
   ]
  },
  {
   "cell_type": "code",
   "execution_count": 105,
   "id": "31b0a30b-11ee-40fe-9ff5-3e48966a13ce",
   "metadata": {},
   "outputs": [
    {
     "name": "stdout",
     "output_type": "stream",
     "text": [
      "+-------+---+----------+------+\n",
      "|   Name|age|experience|Salary|\n",
      "+-------+---+----------+------+\n",
      "|  Sunny| 29|         4| 20000|\n",
      "|   Paul| 24|         3| 20000|\n",
      "| Harsha| 21|         1| 15000|\n",
      "|Shubham| 23|         2| 18000|\n",
      "+-------+---+----------+------+\n",
      "\n"
     ]
    }
   ],
   "source": [
    "##salary of people less than or 20k\n",
    "non_null.filter(non_null[\"Salary\"]<=20000).show()"
   ]
  },
  {
   "cell_type": "code",
   "execution_count": 106,
   "id": "13fcc631-252e-4974-9305-748177b2f653",
   "metadata": {},
   "outputs": [
    {
     "name": "stdout",
     "output_type": "stream",
     "text": [
      "+-------+---+----------+------+\n",
      "|   Name|age|experience|Salary|\n",
      "+-------+---+----------+------+\n",
      "|  Sunny| 29|         4| 20000|\n",
      "|   Paul| 24|         3| 20000|\n",
      "| Harsha| 21|         1| 15000|\n",
      "|Shubham| 23|         2| 18000|\n",
      "+-------+---+----------+------+\n",
      "\n"
     ]
    }
   ],
   "source": [
    "##salary of people less than or 20k\n",
    "non_null.filter(\"Salary<=20000\").show()"
   ]
  },
  {
   "cell_type": "code",
   "execution_count": 110,
   "id": "5dc84b3a-2022-4337-a053-c13442cdbf71",
   "metadata": {},
   "outputs": [
    {
     "name": "stdout",
     "output_type": "stream",
     "text": [
      "+-------+------+\n",
      "|   Name|Salary|\n",
      "+-------+------+\n",
      "|  Sunny| 20000|\n",
      "|   Paul| 20000|\n",
      "| Harsha| 15000|\n",
      "|Shubham| 18000|\n",
      "+-------+------+\n",
      "\n"
     ]
    }
   ],
   "source": [
    "##salary of people less than or 20k\n",
    "non_null.filter(\"Salary<=20000\").select([\"Name\",\"Salary\"]).show()"
   ]
  },
  {
   "cell_type": "code",
   "execution_count": 115,
   "id": "739b2543-dd51-49cd-ae72-e513a9a6b2ed",
   "metadata": {},
   "outputs": [
    {
     "name": "stdout",
     "output_type": "stream",
     "text": [
      "+-------+------+---+\n",
      "|   Name|Salary|age|\n",
      "+-------+------+---+\n",
      "|  Sunny| 20000| 29|\n",
      "|   Paul| 20000| 24|\n",
      "|Shubham| 18000| 23|\n",
      "+-------+------+---+\n",
      "\n"
     ]
    }
   ],
   "source": [
    "##salary of people less than or 20k and age>=24\n",
    "non_null.filter((non_null[\"Salary\"]<=20000)&(non_null[\"age\"]>22)).select([\"Name\",\"Salary\",\"age\"]).show()"
   ]
  },
  {
   "cell_type": "markdown",
   "id": "ffe3183d-a059-4d5d-9599-6cffebfa0f7e",
   "metadata": {},
   "source": [
    "### groupby and aggregate Functions"
   ]
  },
  {
   "cell_type": "code",
   "execution_count": 118,
   "id": "e0770c67-0fa4-44ee-bdd5-03adf74ec804",
   "metadata": {},
   "outputs": [
    {
     "name": "stdout",
     "output_type": "stream",
     "text": [
      "+--------+---+----------+------+\n",
      "|    Name|age|experience|Salary|\n",
      "+--------+---+----------+------+\n",
      "|   Rohan| 23|        10| 30000|\n",
      "|Sudanshu| 30|         8| 25000|\n",
      "|   Sunny| 29|         4| 20000|\n",
      "|    Paul| 24|         3| 20000|\n",
      "|  Harsha| 21|         1| 15000|\n",
      "| Shubham| 23|         2| 18000|\n",
      "+--------+---+----------+------+\n",
      "\n"
     ]
    }
   ],
   "source": [
    "non_null.show()"
   ]
  },
  {
   "cell_type": "code",
   "execution_count": 119,
   "id": "1f6d92d0-4f00-4090-951c-7c8ec994e333",
   "metadata": {},
   "outputs": [
    {
     "name": "stdout",
     "output_type": "stream",
     "text": [
      "root\n",
      " |-- Name: string (nullable = true)\n",
      " |-- age: integer (nullable = true)\n",
      " |-- experience: integer (nullable = true)\n",
      " |-- Salary: integer (nullable = true)\n",
      "\n"
     ]
    }
   ],
   "source": [
    "non_null.printSchema()"
   ]
  },
  {
   "cell_type": "code",
   "execution_count": 142,
   "id": "6c38dcdc-ca46-4266-a0a8-2304e63e3603",
   "metadata": {},
   "outputs": [
    {
     "name": "stdout",
     "output_type": "stream",
     "text": [
      "+--------+-----------+\n",
      "|    name|sum(Salary)|\n",
      "+--------+-----------+\n",
      "|   Sunny|      20000|\n",
      "|Sudanshu|      25000|\n",
      "|   Rohan|      30000|\n",
      "|  Harsha|      15000|\n",
      "|    Paul|      20000|\n",
      "| Shubham|      18000|\n",
      "+--------+-----------+\n",
      "\n"
     ]
    }
   ],
   "source": [
    "##GroupBy \n",
    "##group by name to sum salary\n",
    "non_null.groupby('name').sum(\"Salary\").show()"
   ]
  },
  {
   "cell_type": "code",
   "execution_count": 145,
   "id": "77ad65a7-fa16-4ee2-974b-f83ac003be9a",
   "metadata": {},
   "outputs": [
    {
     "name": "stdout",
     "output_type": "stream",
     "text": [
      "+---+-----------+\n",
      "|age|avg(Salary)|\n",
      "+---+-----------+\n",
      "| 23|    24000.0|\n",
      "| 24|    20000.0|\n",
      "| 29|    20000.0|\n",
      "| 21|    15000.0|\n",
      "| 30|    25000.0|\n",
      "+---+-----------+\n",
      "\n"
     ]
    }
   ],
   "source": [
    "non_null.groupby('age').mean(\"Salary\").show()"
   ]
  },
  {
   "cell_type": "code",
   "execution_count": 147,
   "id": "c5a8e8e3-a313-47cd-a131-01722ff5a6dd",
   "metadata": {},
   "outputs": [
    {
     "name": "stdout",
     "output_type": "stream",
     "text": [
      "+---+-----+\n",
      "|age|count|\n",
      "+---+-----+\n",
      "| 23|    2|\n",
      "| 24|    1|\n",
      "| 29|    1|\n",
      "| 21|    1|\n",
      "| 30|    1|\n",
      "+---+-----+\n",
      "\n"
     ]
    }
   ],
   "source": [
    "#to count number of employees\n",
    "non_null.groupby('age').count().show()"
   ]
  },
  {
   "cell_type": "code",
   "execution_count": 152,
   "id": "4adb1362-6c13-4cf5-9f78-c7a5a621b3ad",
   "metadata": {},
   "outputs": [
    {
     "name": "stdout",
     "output_type": "stream",
     "text": [
      "+-----------+\n",
      "|sum(Salary)|\n",
      "+-----------+\n",
      "|     128000|\n",
      "+-----------+\n",
      "\n"
     ]
    }
   ],
   "source": [
    "##agg\n",
    "non_null.agg({'Salary':'Sum'}).show()"
   ]
  }
 ],
 "metadata": {
  "kernelspec": {
   "display_name": "Python 3 (ipykernel)",
   "language": "python",
   "name": "python3"
  },
  "language_info": {
   "codemirror_mode": {
    "name": "ipython",
    "version": 3
   },
   "file_extension": ".py",
   "mimetype": "text/x-python",
   "name": "python",
   "nbconvert_exporter": "python",
   "pygments_lexer": "ipython3",
   "version": "3.12.1"
  }
 },
 "nbformat": 4,
 "nbformat_minor": 5
}
